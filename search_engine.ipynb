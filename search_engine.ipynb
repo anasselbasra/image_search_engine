{
 "cells": [
  {
   "cell_type": "code",
   "execution_count": 3,
   "id": "9c274519",
   "metadata": {},
   "outputs": [],
   "source": [
    "# ====== IMPORTATIONS PRINCIPALES ======\n",
    "from helper_functions import *\n",
    "import umap.umap_ as umap\n",
    "import hdbscan\n",
    "\n",
    "from concurrent.futures import ThreadPoolExecutor, as_completed\n",
    "from transformers import (\n",
    "    AutoImageProcessor,  # Gère automatiquement les pré-traitements (resize, normalisation...) selon le modèle\n",
    "    AutoModel,           # Permet de charger les modèles de vision (ex : DINOv2, SigLIP)\n",
    "    CLIPProcessor,       # Processor spécifique pour les modèles CLIP (image + texte)\n",
    "    CLIPModel            # Modèle CLIP complet, utilisé ici uniquement pour la partie image\n",
    ")\n",
    "\n",
    "import torch  # Bibliothèque principale pour exécuter les modèles sur GPU (PyTorch)\n",
    "from PIL import Image  # Librairie pour ouvrir, convertir et manipuler des images locales\n",
    "from pathlib import Path  # Gère proprement les chemins de fichiers (OS-independent)\n",
    "\n",
    "import logging  # Pour contrôler le niveau d'affichage des logs (supprimer les warnings inutiles)\n",
    "from tqdm import tqdm  \n",
    "import pandas as pd \n",
    "import numpy as np \n",
    "import warnings \n",
    "import csv\n",
    "\n",
    "from urllib.parse import urlparse # Pour extraire le nom de fichier à partir d’une URL.\n",
    "import requests, time, os\n",
    "\n",
    "warnings.filterwarnings(\"ignore\")\n",
    "logging.getLogger(\"transformer\").setLevel(logging.ERROR)\n",
    "logging.getLogger(\"PIL\").setLevel(logging.WARNING)\n",
    "\n"
   ]
  },
  {
   "cell_type": "markdown",
   "id": "44a37523",
   "metadata": {},
   "source": [
    "## Parametres"
   ]
  },
  {
   "cell_type": "code",
   "execution_count": 4,
   "id": "25b53e2b",
   "metadata": {},
   "outputs": [
    {
     "name": "stdout",
     "output_type": "stream",
     "text": [
      "Device: cuda\n"
     ]
    }
   ],
   "source": [
    "path = \"/home/anass/scripts/tests/img_data\"\n",
    "\n",
    "folder_name = f\"images_10_septembre\"\n",
    "image_dir = os.path.join(path, folder_name)\n",
    "\n",
    "\n",
    "device = \"cuda\" if torch.cuda.is_available() else \"cpu\"\n",
    "print(\"Device:\", device)"
   ]
  },
  {
   "cell_type": "markdown",
   "id": "52fe08a4",
   "metadata": {},
   "source": [
    "# Collecting images from 'September 10' dataset  "
   ]
  },
  {
   "cell_type": "markdown",
   "id": "21291f63",
   "metadata": {},
   "source": [
    "## What is this dataset ?"
   ]
  },
  {
   "cell_type": "markdown",
   "id": "7d4a7c2e",
   "metadata": {},
   "source": [
    "bla bla bla bla"
   ]
  },
  {
   "cell_type": "code",
   "execution_count": 12,
   "id": "a2997cdf",
   "metadata": {},
   "outputs": [
    {
     "ename": "AttributeError",
     "evalue": "'DataFrame' object has no attribute 'urls'",
     "output_type": "error",
     "traceback": [
      "\u001b[31m---------------------------------------------------------------------------\u001b[39m",
      "\u001b[31mAttributeError\u001b[39m                            Traceback (most recent call last)",
      "\u001b[32m~\\AppData\\Local\\Temp\\ipykernel_12224\\1255110003.py\u001b[39m in \u001b[36m?\u001b[39m\u001b[34m()\u001b[39m\n\u001b[32m      1\u001b[39m df_urls = pd.read_csv(\u001b[33mr\"C:\\Users\\anass\\Desktop\\image_search_engine\\img_urls\\images_10_septembre.csv\"\u001b[39m)\n\u001b[32m----> \u001b[39m\u001b[32m2\u001b[39m df_urls.urls.to_list()\n",
      "\u001b[32mc:\\Users\\anass\\AppData\\Local\\Programs\\Python\\Python311\\Lib\\site-packages\\pandas\\core\\generic.py\u001b[39m in \u001b[36m?\u001b[39m\u001b[34m(self, name)\u001b[39m\n\u001b[32m   6314\u001b[39m             \u001b[38;5;28;01mand\u001b[39;00m name \u001b[38;5;28;01mnot\u001b[39;00m \u001b[38;5;28;01min\u001b[39;00m self._accessors\n\u001b[32m   6315\u001b[39m             \u001b[38;5;28;01mand\u001b[39;00m self._info_axis._can_hold_identifiers_and_holds_name(name)\n\u001b[32m   6316\u001b[39m         ):\n\u001b[32m   6317\u001b[39m             \u001b[38;5;28;01mreturn\u001b[39;00m self[name]\n\u001b[32m-> \u001b[39m\u001b[32m6318\u001b[39m         \u001b[38;5;28;01mreturn\u001b[39;00m object.__getattribute__(self, name)\n",
      "\u001b[31mAttributeError\u001b[39m: 'DataFrame' object has no attribute 'urls'"
     ]
    }
   ],
   "source": [
    "df_urls = pd.read_csv(r\"C:\\Users\\anass\\Desktop\\image_search_engine\\img_urls\\images_10_septembre.csv\")\n",
    "df_urls.urls.to_list()"
   ]
  }
 ],
 "metadata": {
  "kernelspec": {
   "display_name": "Python 3",
   "language": "python",
   "name": "python3"
  },
  "language_info": {
   "codemirror_mode": {
    "name": "ipython",
    "version": 3
   },
   "file_extension": ".py",
   "mimetype": "text/x-python",
   "name": "python",
   "nbconvert_exporter": "python",
   "pygments_lexer": "ipython3",
   "version": "3.11.9"
  }
 },
 "nbformat": 4,
 "nbformat_minor": 5
}
